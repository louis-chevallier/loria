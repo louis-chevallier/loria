{
 "cells": [
  {
   "cell_type": "markdown",
   "metadata": {},
   "source": [
    "# Séminaire IMT Grand-Est\n",
    "\n",
    "# Introduction à l'apprentissage automatique - TP6 exercice 2\n",
    "\n",
    "### SVM sur données réelles\n",
    "\n",
    "<br> \n",
    "\n",
    "On considère le jeu de données `breast-cancer` précédemment utilisé. Que contient ce jeu de données ? Combien d'observations et d'attributs par observation ? Que cherche-t-on à prédire ?\n",
    "\n",
    "<br>\n",
    "\n",
    "Mettez en oeuvre la classification par une SVM dont vous aurez fixé les hyperparamètres de manière optimale, et comparez aux classifieurs avec lesquels vous êtes à présent familiers.\n",
    "\n",
    "Vous comparerez les scores de classification avec et sans normalisation.\n",
    "\n",
    "<br>\n",
    "Si vous avez le temps, même questions avec le jeu de données `SA-heart`.\n"
   ]
  },
  {
   "cell_type": "code",
   "execution_count": null,
   "metadata": {},
   "outputs": [],
   "source": [
    "from sklearn import datasets, model_selection, neural_network, model_selection, preprocessing, neighbors, naive_bayes, linear_model, svm\n",
    "import numpy as np\n",
    "import matplotlib.pyplot as plt\n",
    "\n",
    "%matplotlib inline\n",
    "\n",
    "dataset = datasets.load_breast_cancer()\n",
    "X_dataset = dataset.data\n",
    "y_dataset = dataset.target\n",
    "X_train, X_test, y_train, y_test = model_selection.train_test_split(X_dataset,y_dataset,test_size=.8)\n",
    "#normalisation\n",
    "X_train_n = preprocessing.StandardScaler().fit_transform(X_train)\n",
    "X_test_n = preprocessing.StandardScaler().fit(X_train).transform(X_test)\n"
   ]
  },
  {
   "cell_type": "code",
   "execution_count": null,
   "metadata": {},
   "outputs": [],
   "source": [
    "# votre code ici:\n"
   ]
  }
 ],
 "metadata": {
  "kernelspec": {
   "display_name": "Python 3",
   "language": "python",
   "name": "python3"
  },
  "language_info": {
   "codemirror_mode": {
    "name": "ipython",
    "version": 3
   },
   "file_extension": ".py",
   "mimetype": "text/x-python",
   "name": "python",
   "nbconvert_exporter": "python",
   "pygments_lexer": "ipython3",
   "version": "3.7.4"
  }
 },
 "nbformat": 4,
 "nbformat_minor": 2
}
