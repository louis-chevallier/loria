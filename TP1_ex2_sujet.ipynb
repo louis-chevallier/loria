{
 "cells": [
  {
   "cell_type": "markdown",
   "metadata": {},
   "source": [
    "# Séminaire IMT Grand-Est\n",
    "\n",
    "# Introduction à l'apprentissage automatique: TP1 - Exercice 2\n",
    "\n",
    "<br>\n",
    "\n",
    "Dans cet exercice, on cherche à prédire l'influence de l'indice de masse corporelle (IMC, _body mass index_ en anglais) sur un indicateur de la progression du diabète.\n",
    "\n",
    "On se base sur un jeu de données intégré à scikit-learn et [décrit ici](https://scikit-learn.org/stable/datasets/index.html#diabetes-dataset)."
   ]
  },
  {
   "cell_type": "code",
   "execution_count": null,
   "metadata": {},
   "outputs": [],
   "source": [
    "# import des bibliothèques Python utiles:\n",
    "import numpy as np\n",
    "from sklearn import datasets, linear_model, metrics\n",
    "import matplotlib.pyplot as plt\n",
    "\n",
    "# \"magic function\" Jupyter pour l'affichage des graphiques dans le carnet:\n",
    "%matplotlib inline"
   ]
  },
  {
   "cell_type": "code",
   "execution_count": null,
   "metadata": {},
   "outputs": [],
   "source": [
    "# chargement des données\n",
    "diabetes_X, diabetes_y = datasets.load_diabetes(return_X_y=True)\n",
    "\n",
    "# affichage des 5 premières observations \n",
    "print(diabetes_X[:5,:])\n",
    "print(diabetes_y[:5])"
   ]
  },
  {
   "cell_type": "code",
   "execution_count": null,
   "metadata": {},
   "outputs": [],
   "source": [
    "# la variable explicative x est l'IMC\n",
    "# la variable à expliquer y est l'indicateur de progression de la maladie un an après la mesure de x\n",
    "# on \"met de côté\" les 20 dernières observations de la base pour tester nos prédictions\n",
    "# l'apprentissage se fera sur les autres observations\n",
    "\n",
    "diabetes_x_train = diabetes_X[:-20,2]\n",
    "diabetes_x_test = diabetes_X[-20:,2]\n",
    "diabetes_x_train = diabetes_x_train.reshape(len(diabetes_x_train),1)\n",
    "diabetes_x_test = diabetes_x_test.reshape(len(diabetes_x_test),1)\n",
    "diabetes_y_train = diabetes_y[:-20]\n",
    "diabetes_y_test = diabetes_y[-20:]\n",
    "\n",
    "print(diabetes_x_train[:5])  # rappel: les données ont été préalablement normalisées"
   ]
  },
  {
   "cell_type": "markdown",
   "metadata": {},
   "source": [
    "### Travail à faire\n",
    "\n",
    "Proposez un modèle de régression linéaire pour prédire y en fonction de x. Calculer l'erreur MSE sur la base de test. Si vous avez le temps, vous testerez aussi la régression ridge et le Lasso. A la vue des graphiques, pensez-vous que le modèle linéaire est bien adapté? \n",
    "\n",
    "Travail additionnel pour les plus rapides: proposez un modèle de régression multivariée intégrant tous les facteurs explicatifs du jeu de données. Observez les valeurs des coefficients obtenus.\n",
    "\n",
    "<br>\n",
    "\n",
    "__Remarque__: dans un cours avancé de statistique, on pourrait étudier la _significativité_ de la relation obtenue, construire un modèle en _sélectionnant_ les facteurs explicatifs pertinents parmi ceux fournis dans le jeu de données, appliquer une transformation préalable aux facteurs, etc."
   ]
  }
 ],
 "metadata": {
  "kernelspec": {
   "display_name": "Python 3",
   "language": "python",
   "name": "python3"
  },
  "language_info": {
   "codemirror_mode": {
    "name": "ipython",
    "version": 3
   },
   "file_extension": ".py",
   "mimetype": "text/x-python",
   "name": "python",
   "nbconvert_exporter": "python",
   "pygments_lexer": "ipython3",
   "version": "3.7.4"
  }
 },
 "nbformat": 4,
 "nbformat_minor": 2
}
