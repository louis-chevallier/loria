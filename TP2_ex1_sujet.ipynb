{
 "cells": [
  {
   "cell_type": "markdown",
   "metadata": {},
   "source": [
    "# Séminaire IMT Grand-Est\n",
    "\n",
    "# Introduction à l'apprentissage automatique: TP2 - Exercice 1\n",
    "\n",
    "<br>\n",
    "\n",
    "Le but de ce premier exercice est d'explorer des algorithmes de partitionnement (_clustering_) sur des jeux de données synthétiques 2D. On comparera les classifications hiérarchiques de la bibliothèque `scipy` (de manière à pouvoir tracer les dendrogrammes plus simplement qu'avec les fonctions de `scikit-learn`), et l'algorithme $K$-means. \n",
    "\n",
    "Vous pourrez lire les pages _complément d'information_ (__CI__) plus tard si vous avez besoin de la documentation complète des fonctions utilisées.\n",
    "\n",
    "Cet exercice est inspiré en partie de __[cette page de la documentation scikit-learn](https://scikit-learn.org/stable/auto_examples/cluster/plot_cluster_comparison.html#sphx-glr-auto-examples-cluster-plot-cluster-comparison-py)__ (__CI__)\n",
    "\n",
    "On utilisera les algorithmes de classification hiérarchique de `scipy` de manière à tracer facilement les dendrogrammes; ils sont décrits __[ici](https://docs.scipy.org/doc/scipy/reference/generated/scipy.cluster.hierarchy.linkage.html)__ (__CI__)\n",
    "\n",
    "L'algorithmes des $K$-moyennes (_$K$-means_) est décrit sur __[cette page](http://scikit-learn.org/stable/modules/generated/sklearn.cluster.KMeans.html)__ (__CI__) et sur __[celle-ci](http://scikit-learn.org/stable/modules/clustering.html#k-means)__ (__CI__, rappel du cours). \n",
    "\n",
    "<br>\n",
    "\n",
    "__TRAVAIL A FAIRE__: mettez en évidence les propriétés / limites des différents algorithmes en jouant sur les paramètres. Pour chaque jeu de données synthétiques défini ci-dessous:\n",
    "- pour les classifications hiérarchiques, faites le lien entre le dendrogramme et les valeurs de seuil permettant de trouver des clusters raisonnables dans chaque jeu de donnée\n",
    "- quel(s) jeu(x) de données pose(nt) le problème du _chaînage_ pour la classification_single linkage_? Dans ce cas, que donne le critère de Ward?\n",
    "- pour la méthode des $K$-moyennes, la méthode du coude permet-elle de fixer simplement la valeur de $K$?\n",
    "- discutez de la pertinence des résultats de chaque méthode selon le jeu de données\n",
    "\n",
    "Exécutez les cellules de ce carnet Jupyter les unes après les autres.\n",
    "En cas de problème d'exécution du code Python, vous pouvez redémarrer le noyau / kernel (onglet dans la barre du carnet Jupyter en haut)."
   ]
  },
  {
   "cell_type": "markdown",
   "metadata": {},
   "source": [
    "## On commence par charger les bibliothèques utiles"
   ]
  },
  {
   "cell_type": "code",
   "execution_count": null,
   "metadata": {},
   "outputs": [],
   "source": [
    "# \"magic function\" Jupyter pour l'affichage des graphiques dans le carnet:\n",
    "%matplotlib inline\n",
    "\n",
    "# import des bibliothèques Python utiles:\n",
    "import numpy as np\n",
    "import matplotlib.pyplot as plt\n",
    "from sklearn import cluster, datasets\n",
    "from scipy.cluster.hierarchy import dendrogram, linkage, fcluster\n",
    "\n",
    "# pour les \"widgets\" Jupyter permettant de régler les valeurs de variables (plus ou moins stable...)\n",
    "import ipywidgets as widgets  \n",
    "from ipywidgets import interact\n",
    "\n",
    "# affichage joli des variables dans Jupyter\n",
    "#from IPython.core.interactiveshell import InteractiveShell\n",
    "#InteractiveShell.ast_node_interactivity = \"all\""
   ]
  },
  {
   "cell_type": "markdown",
   "metadata": {},
   "source": [
    "## Génération des données synthétiques"
   ]
  },
  {
   "cell_type": "code",
   "execution_count": null,
   "metadata": {},
   "outputs": [],
   "source": [
    "n_samples = 100\n",
    "\n",
    "# blobs isotropes\n",
    "blobs = datasets.make_blobs(n_samples=n_samples, random_state=8)\n",
    "\n",
    "# \"lunes\"\n",
    "moons = datasets.make_moons(n_samples=n_samples, noise=.05)\n",
    "\n",
    "# blobs anisotropes\n",
    "random_state = 170\n",
    "X, y = datasets.make_blobs(n_samples=n_samples, random_state=random_state)\n",
    "transformation = [[0.6, -0.6], [-0.4, 0.8]]\n",
    "X_aniso = np.dot(X, transformation)\n",
    "aniso = (X_aniso, y)\n",
    "\n",
    "# blobs d'étalements variés\n",
    "varied = datasets.make_blobs(n_samples=n_samples,\n",
    "                             cluster_std=[1.0, 2.5, 0.5],\n",
    "                             random_state=random_state)\n"
   ]
  },
  {
   "cell_type": "markdown",
   "metadata": {},
   "source": [
    "## Partitionnement des jeux de données avec différents algorithmes"
   ]
  },
  {
   "cell_type": "markdown",
   "metadata": {},
   "source": [
    "### Visualisation du jeu de données à partitionner\n",
    "\n",
    "La première ligne de la cellule suivante permet de changer le jeu de données: commencez par _blobs_ et exécutez le carnet jusque la fin, puis ré-exécuter le carnet depuis ici avec _moons_, _aniso_, _varied_.\n",
    "<a id=\"debut\"></a>"
   ]
  },
  {
   "cell_type": "code",
   "execution_count": null,
   "metadata": {
    "scrolled": false
   },
   "outputs": [],
   "source": [
    "X,y = blobs  # changer le dataset ici (commencer par blobs, puis moons, aniso, varied)\n",
    "\n",
    "plt.figure(figsize=[10,8]);  # on met des \";\" sous Jupyter pour éviter des affichages intempestifs dans le carnet\n",
    "plt.scatter(X[:, 0], X[:, 1], s=10);\n",
    "plt.title('dataset');"
   ]
  },
  {
   "cell_type": "markdown",
   "metadata": {},
   "source": [
    "### Classification hiérarchique, algorithme single-linkage \n",
    "\n",
    "On commence par afficher le dendrogramme"
   ]
  },
  {
   "cell_type": "code",
   "execution_count": null,
   "metadata": {
    "scrolled": false
   },
   "outputs": [],
   "source": [
    "Z = linkage(X,method=\"single\")\n",
    "maxdist=max(Z[:,2])  # hauteur du dendrogramme \n",
    "plt.figure(figsize=[10,8]);\n",
    "dendrogram(Z) #,truncate_mode=\"level\",p=10);  # le paramètre p permet éventuellement de ne pas afficher le \"bas\" du dendrogramme\n",
    "plt.title('Single linkage dendrogram with scipy');  "
   ]
  },
  {
   "cell_type": "markdown",
   "metadata": {},
   "source": [
    "La cellule suivante permet de changer la valeur du seuil (variable _seuil_) dans le dendrogramme (cela fixe donc le nombre de clusters):"
   ]
  },
  {
   "cell_type": "code",
   "execution_count": null,
   "metadata": {},
   "outputs": [],
   "source": [
    "@interact(seuil=(0,maxdist,maxdist/100))   # \"décorateur\" Jupyter, permettant une interaction avec un argument de la fonction\n",
    "def graphique_clustering_single(seuil):\n",
    "    clusters=fcluster(Z, seuil, criterion='distance') \n",
    "    plt.figure(figsize=[10,8]);\n",
    "    plt.scatter(X[:, 0], X[:, 1], s=30, c=clusters, cmap='Set1');\n",
    "    plt.title('Single linkage with scipy, seuil='+str(seuil)+', nombres de clusters: '+str(max(clusters)));"
   ]
  },
  {
   "cell_type": "markdown",
   "metadata": {},
   "source": [
    "Réciproquement, la cellule suivante permet de changer la valeur du nombre de clusters ($nc$) à trouver:"
   ]
  },
  {
   "cell_type": "code",
   "execution_count": null,
   "metadata": {},
   "outputs": [],
   "source": [
    "@interact(nc=(1,10,1))\n",
    "def graphique_clustering_single(nc):\n",
    "    clusters=fcluster(Z, nc, criterion='maxclust') \n",
    "    plt.figure(figsize=[10,8]);\n",
    "    plt.scatter(X[:, 0], X[:, 1], s=30, c=clusters, cmap='Set1');\n",
    "    plt.title('Single linkage with scipy, n_cluster='+str(nc));"
   ]
  },
  {
   "cell_type": "markdown",
   "metadata": {},
   "source": [
    "### Classification hiérarchique, critère de Ward\n",
    "\n",
    "On commence par afficher le dendrogramme:"
   ]
  },
  {
   "cell_type": "code",
   "execution_count": null,
   "metadata": {},
   "outputs": [],
   "source": [
    "Z = linkage(X,method=\"ward\")\n",
    "maxdist=max(Z[:,2])\n",
    "plt.figure(figsize=[10,8]);\n",
    "dendrogram(Z)#,truncate_mode=\"level\",p=5)\n",
    "plt.title('Ward criterion dendrogram with scipy');  # met quelques secondes à s'afficher"
   ]
  },
  {
   "cell_type": "markdown",
   "metadata": {},
   "source": [
    "Changez la valeur du seuil (variable _seuil_) dans le dendrogramme (qui fixe le nombre de clusters):"
   ]
  },
  {
   "cell_type": "code",
   "execution_count": null,
   "metadata": {},
   "outputs": [],
   "source": [
    "@interact(seuil=(0,maxdist,maxdist/100))\n",
    "def graphique_clustering_Ward(seuil):\n",
    "    clusters=fcluster(Z, seuil, criterion='distance') \n",
    "    plt.figure(figsize=[10,8]);\n",
    "    plt.scatter(X[:, 0], X[:, 1], s=30, c=clusters, cmap='Set1');\n",
    "    plt.title('Ward linkage with scipy, seuil='+str(seuil)+', nombres de clusters: '+str(max(clusters)));"
   ]
  },
  {
   "cell_type": "markdown",
   "metadata": {},
   "source": [
    "Changez la valeur du nombre de clusters (nc) à trouver (qui permet de trouver le seuil dans le dendrogramme):"
   ]
  },
  {
   "cell_type": "code",
   "execution_count": null,
   "metadata": {},
   "outputs": [],
   "source": [
    "@interact(nc=(1,10,1))\n",
    "def graphique_clustering_Ward(nc):\n",
    "    clusters=fcluster(Z, nc, criterion='maxclust') \n",
    "    plt.figure(figsize=[10,8]);\n",
    "    plt.scatter(X[:, 0], X[:, 1], s=30,c=clusters);\n",
    "    plt.title('Ward linkage with scipy, n_cluster='+str(nc));"
   ]
  },
  {
   "cell_type": "markdown",
   "metadata": {},
   "source": [
    "### $K$-means\n",
    "\n",
    "Changez la valeur du nombre $K$ de clusters:"
   ]
  },
  {
   "cell_type": "code",
   "execution_count": null,
   "metadata": {
    "scrolled": false
   },
   "outputs": [],
   "source": [
    "@interact(K=(1,10,1))\n",
    "def graphique_clustering_KMeans(K):\n",
    "    clustering=cluster.KMeans(n_clusters=K)  \n",
    "    clustering.fit(X)\n",
    "    print(\"Inertie: %.2f\" % clustering.inertia_)\n",
    "    plt.figure(figsize=[10,8]);\n",
    "    plt.scatter(X[:, 0], X[:, 1], s=30,c=clustering.labels_);\n",
    "    plt.title('Kmeans, n_cluster='+str(K));"
   ]
  },
  {
   "cell_type": "markdown",
   "metadata": {},
   "source": [
    "On va tracer le graphique de l'inertie en fonction du nombre $K$ de clusters cherchés. La méthode du \"coude\" (_elbow_) fixe $K$ comme le point du graphique où l'inertie ne baisse plus vraiment (présence d'un \"coude\"). "
   ]
  },
  {
   "cell_type": "code",
   "execution_count": null,
   "metadata": {},
   "outputs": [],
   "source": [
    "inertie=np.zeros((10))\n",
    "for K in range(1,11):\n",
    "    clustering=cluster.KMeans(n_clusters=K)\n",
    "    clustering.fit(X)\n",
    "    inertie[K-1]=clustering.inertia_\n",
    "plt.figure(figsize=[10,8]);\n",
    "plt.plot(np.arange(1,11),inertie);\n",
    "plt.xlabel(\"K\");\n",
    "plt.ylabel(\"inertie\");\n",
    "plt.title(\"elbow plot\");"
   ]
  },
  {
   "cell_type": "markdown",
   "metadata": {},
   "source": [
    "[Retour au choix du jeu de données](#debut)"
   ]
  }
 ],
 "metadata": {
  "kernelspec": {
   "display_name": "Python 3",
   "language": "python",
   "name": "python3"
  },
  "language_info": {
   "codemirror_mode": {
    "name": "ipython",
    "version": 3
   },
   "file_extension": ".py",
   "mimetype": "text/x-python",
   "name": "python",
   "nbconvert_exporter": "python",
   "pygments_lexer": "ipython3",
   "version": "3.7.4"
  }
 },
 "nbformat": 4,
 "nbformat_minor": 2
}
