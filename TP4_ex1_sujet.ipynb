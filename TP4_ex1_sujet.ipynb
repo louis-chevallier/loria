{
 "cells": [
  {
   "cell_type": "markdown",
   "metadata": {},
   "source": [
    "# Séminaire IMT Grand-Est\n",
    "\n",
    "# Introduction à l'apprentissage automatique - TP4 exercice 1\n",
    "\n",
    "### Classification supervisée sur données réelles, et sélection de modèle par validation croisée\n",
    "\n",
    "<br>\n",
    "\n",
    "\n",
    "On commence par charger quelques bibliothèques..."
   ]
  },
  {
   "cell_type": "code",
   "execution_count": null,
   "metadata": {},
   "outputs": [],
   "source": [
    "from sklearn import datasets, neighbors, naive_bayes, linear_model, model_selection\n",
    "import numpy as np\n",
    "import matplotlib.pyplot as plt\n",
    "import pandas as pd\n",
    "\n",
    "# pour ignorer les \"warnings\" concernant les modifications futures\n",
    "# (pour régression logistique et perceptron)\n",
    "from warnings import simplefilter\n",
    "simplefilter(action='ignore', category=FutureWarning)\n",
    "\n",
    "%matplotlib inline"
   ]
  },
  {
   "cell_type": "markdown",
   "metadata": {},
   "source": [
    "...puis on charge le jeu de données `digits`:"
   ]
  },
  {
   "cell_type": "code",
   "execution_count": null,
   "metadata": {},
   "outputs": [],
   "source": [
    "dataset = datasets.load_digits()\n",
    "X_dataset = dataset.data\n",
    "y_dataset = dataset.target"
   ]
  },
  {
   "cell_type": "markdown",
   "metadata": {},
   "source": [
    "Bien entendu, quand on s'intéresse à un \"vrai\" problème de classification supervisée, on ne connaît pas les classes auxquelles les observations-tests appartiennent.\n",
    "\n",
    "Pour mesurer la performance des différents algorithmes, on va séparer artificiellement le jeu de données en base d'apprentissage et base de test, et on pourra comparer le résultat de classification des observations-tests aux vraies classes.\n",
    "\n",
    "On sépare aléatoirement le jeu de données en base d'apprentissage et base de\n",
    "  test (20\\% des observations), ainsi:"
   ]
  },
  {
   "cell_type": "code",
   "execution_count": null,
   "metadata": {},
   "outputs": [],
   "source": [
    "X_train, X_test, y_train, y_test = model_selection.train_test_split(X_dataset,y_dataset,test_size=.2)"
   ]
  },
  {
   "cell_type": "markdown",
   "metadata": {},
   "source": [
    "Calculez les scores de classification de la base de test pour les algorithmes 1-PPV, 5-PPV, 10-PPV, naive Bayes, régression logistique (comme fait dans une séance précédente), et perceptron.\n",
    "\n",
    "Constatez que les scores varient si vous ré-exécutez le code de la cellule précédente, la base de test étant choisie aléatoirement."
   ]
  },
  {
   "cell_type": "code",
   "execution_count": null,
   "metadata": {},
   "outputs": [],
   "source": [
    "# votre code ici\n"
   ]
  },
  {
   "cell_type": "markdown",
   "metadata": {},
   "source": [
    "Comparez les méthodes au sens de la validation croisée à _K_ plis (_K-fold cross validation_), pour $K=10$.\n",
    "\n",
    "Affichez la matrice de confusion du \"meilleur\" algorithme lorsque vous séparez base d'apprentissage et base de test dans la base de donnée initiale (avec respectivement 80% et 20% des observations initiales).\n"
   ]
  },
  {
   "cell_type": "code",
   "execution_count": null,
   "metadata": {},
   "outputs": [],
   "source": [
    "# votre code ici\n"
   ]
  },
  {
   "cell_type": "markdown",
   "metadata": {},
   "source": [
    "\n",
    "<br>\n",
    "\n",
    "Identifiez les meilleurs classifieurs dans les deux cas suivants:\n",
    "\n",
    "* Breast-Cancer décrite [ici](https://scikit-learn.org/stable/datasets/index.html#breast-cancer-dataset).\n",
    "\n",
    "et qui est fournie dans SKLearn:\n",
    "``` python\n",
    "dataset = datasets.load_breast_cancer() \n",
    "```\n",
    "\n",
    "* _South African Heart Disease_ décrite [ici](https://web.stanford.edu/~hastie/ElemStatLearn/datasets/SAheart.info.txt) et disponible [là](https://members.loria.fr/FSur/enseignement/apprauto/SAheart.data).\n",
    "\n",
    "Pour cette base de données, vous allez être amené à charger le fichier CSV comme un dataframe Pandas (les dataframes Pandas permettent des fonctionnalités proches des dataframes R).\n",
    "\n",
    "Puis chargez et traitez les données par:\n",
    "```` python \n",
    "import pandas as pd\n",
    "dataset=pd.read_csv('SAheart.data')\n",
    "print(dataset.iloc[:3,:]) \n",
    "# On transforme la variable bi-modale en variable qualitative:\n",
    "dataset.iloc[:,5]=dataset.iloc[:,5].map({'Present':1, 'Absent':0}) \n",
    "print(dataset.iloc[:3,:])\n",
    "X_dataset = dataset.values[:,:-1]\n",
    "y_dataset = dataset.values[:,-1]\n",
    "````\n",
    "\n",
    "<br>\n",
    "\n",
    "Dans le cas biclasse, quel serait le score de classification d'un tirage aléatoire?\n"
   ]
  },
  {
   "cell_type": "code",
   "execution_count": null,
   "metadata": {},
   "outputs": [],
   "source": [
    "# breast cancers, votre code ici\n"
   ]
  },
  {
   "cell_type": "code",
   "execution_count": null,
   "metadata": {},
   "outputs": [],
   "source": [
    "# South African Heart Disease, votre code ici\n"
   ]
  }
 ],
 "metadata": {
  "kernelspec": {
   "display_name": "Python 3",
   "language": "python",
   "name": "python3"
  },
  "language_info": {
   "codemirror_mode": {
    "name": "ipython",
    "version": 3
   },
   "file_extension": ".py",
   "mimetype": "text/x-python",
   "name": "python",
   "nbconvert_exporter": "python",
   "pygments_lexer": "ipython3",
   "version": "3.7.4"
  }
 },
 "nbformat": 4,
 "nbformat_minor": 2
}
